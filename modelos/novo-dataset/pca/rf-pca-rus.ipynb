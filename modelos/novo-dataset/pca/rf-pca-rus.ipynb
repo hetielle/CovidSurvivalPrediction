{
  "nbformat": 4,
  "nbformat_minor": 0,
  "metadata": {
    "colab": {
      "provenance": [],
      "include_colab_link": true
    },
    "kernelspec": {
      "name": "python3",
      "display_name": "Python 3"
    },
    "language_info": {
      "name": "python"
    }
  },
  "cells": [
    {
      "cell_type": "markdown",
      "metadata": {
        "id": "view-in-github",
        "colab_type": "text"
      },
      "source": [
        "<a href=\"https://colab.research.google.com/github/hetielle/CovidSurvivalPrediction/blob/main/rf-pc-rus.ipynb\" target=\"_parent\"><img src=\"https://colab.research.google.com/assets/colab-badge.svg\" alt=\"Open In Colab\"/></a>"
      ]
    },
    {
      "cell_type": "code",
      "source": [
        "from google.colab import drive\n",
        "drive.mount('/content/drive')"
      ],
      "metadata": {
        "colab": {
          "base_uri": "https://localhost:8080/"
        },
        "id": "9v02cm29H7ro",
        "outputId": "996ba5a6-861b-46ef-e7e4-cd5b4c36ddd9"
      },
      "execution_count": null,
      "outputs": [
        {
          "output_type": "stream",
          "name": "stdout",
          "text": [
            "Mounted at /content/drive\n"
          ]
        }
      ]
    },
    {
      "cell_type": "code",
      "execution_count": null,
      "metadata": {
        "id": "Vi71CnwuS04Z"
      },
      "outputs": [],
      "source": [
        "import pandas as pd\n",
        "\n",
        "df = pd.read_pickle('/content/drive/MyDrive/covid19/dados_finais.pkl')\n",
        "\n",
        "#só alterei a ordem das colunas, deixando a evolucao por ultimo pq é mais facil de entender\n",
        "df = df[['sem_pri', 'co_mun_not', 'co_mun_res', 'cs_raca', 'cs_escol_n',\n",
        "       'cs_zona', 'vacina_cov', 'calc_idade', 'qnt_comorbidades',\n",
        "       'qnt_sintomas', 'co_uni_not', 'ESPVIDA', 'SOBRE60', 'GINI', 'PIND',\n",
        "       'RDPC', 'THEIL', 'IDHM', 'pesotot', 'pesoRUR', 'pesourb', 'capital_res',\n",
        "       'capital_not', 'tot_vacinados_acum', 'leitos', 'publico', 'casos',\n",
        "       'lotacao', 'distancia', 'perc_vac', 'sg_uf_not_cat', 'sg_uf_cat',\n",
        "       'cs_sexo_cat', 'evolucao']]"
      ]
    },
    {
      "cell_type": "code",
      "source": [
        "df.columns"
      ],
      "metadata": {
        "colab": {
          "base_uri": "https://localhost:8080/"
        },
        "id": "THHfGlK-k3pX",
        "outputId": "5da61820-6f78-42a1-d183-93eb86955d2c"
      },
      "execution_count": null,
      "outputs": [
        {
          "output_type": "execute_result",
          "data": {
            "text/plain": [
              "Index(['sem_pri', 'co_mun_not', 'co_mun_res', 'cs_raca', 'cs_escol_n',\n",
              "       'cs_zona', 'vacina_cov', 'calc_idade', 'qnt_comorbidades',\n",
              "       'qnt_sintomas', 'co_uni_not', 'ESPVIDA', 'SOBRE60', 'GINI', 'PIND',\n",
              "       'RDPC', 'THEIL', 'IDHM', 'pesotot', 'pesoRUR', 'pesourb', 'capital_res',\n",
              "       'capital_not', 'tot_vacinados_acum', 'leitos', 'publico', 'casos',\n",
              "       'lotacao', 'distancia', 'perc_vac', 'sg_uf_not_cat', 'sg_uf_cat',\n",
              "       'cs_sexo_cat', 'evolucao'],\n",
              "      dtype='object')"
            ]
          },
          "metadata": {},
          "execution_count": 3
        }
      ]
    },
    {
      "cell_type": "code",
      "source": [
        "pd.set_option('display.max_columns', None)\n",
        "display(df)"
      ],
      "metadata": {
        "colab": {
          "base_uri": "https://localhost:8080/",
          "height": 483
        },
        "id": "3YZI8yLGXnZe",
        "outputId": "40e327d4-8185-4f07-a026-399767618124"
      },
      "execution_count": null,
      "outputs": [
        {
          "output_type": "display_data",
          "data": {
            "text/plain": [
              "         sem_pri  co_mun_not  co_mun_res  cs_raca  cs_escol_n  cs_zona  \\\n",
              "0             54      421620      421620      1.0         1.0      1.0   \n",
              "1            108      421620      421620      1.0         9.0      1.0   \n",
              "2            109      421620      421620      1.0         9.0      1.0   \n",
              "3            108      421620      421620      1.0         9.0      1.0   \n",
              "4            108      421620      421620      1.0         9.0      9.0   \n",
              "...          ...         ...         ...      ...         ...      ...   \n",
              "1180153       63      310070      310070      4.0         9.0      9.0   \n",
              "1180154       68      310380      310380      1.0         9.0      1.0   \n",
              "1180155       66      310380      310380      1.0         9.0      1.0   \n",
              "1180156       67      310380      310380      4.0         9.0      9.0   \n",
              "1180157       81      351450      352750      4.0         1.0      1.0   \n",
              "\n",
              "         vacina_cov  calc_idade  qnt_comorbidades  qnt_sintomas  co_uni_not  \\\n",
              "0               1.0          75                 2             5     7105088   \n",
              "1               2.0          75                 1             7     7105088   \n",
              "2               1.0          54                 1             3     7105088   \n",
              "3               1.0          93                 2             2     7105088   \n",
              "4               2.0          88                 1             5     7105088   \n",
              "...             ...         ...               ...           ...         ...   \n",
              "1180153         2.0          60                 1             3     2164639   \n",
              "1180154         2.0          28                 1             5     2102099   \n",
              "1180155         2.0          56                 0             5     2102099   \n",
              "1180156         2.0          73                 0             3     2102099   \n",
              "1180157         2.0          71                 3             7     2790637   \n",
              "\n",
              "         ESPVIDA  SOBRE60  GINI  PIND    RDPC  THEIL   IDHM  pesotot  pesoRUR  \\\n",
              "0          76.35    85.35  0.45  0.75  801.49   0.36  0.762    42520     3030   \n",
              "1          76.35    85.35  0.45  0.75  801.49   0.36  0.762    42520     3030   \n",
              "2          76.35    85.35  0.45  0.75  801.49   0.36  0.762    42520     3030   \n",
              "3          76.35    85.35  0.45  0.75  801.49   0.36  0.762    42520     3030   \n",
              "4          76.35    85.35  0.45  0.75  801.49   0.36  0.762    42520     3030   \n",
              "...          ...      ...   ...   ...     ...    ...    ...      ...      ...   \n",
              "1180153    76.58    84.78  0.46  0.71  701.19   0.36  0.675     2025      505   \n",
              "1180154    77.27    85.75  0.45  0.95  696.47   0.36  0.724     2775      687   \n",
              "1180155    77.27    85.75  0.45  0.95  696.47   0.36  0.724     2775      687   \n",
              "1180156    77.27    85.75  0.45  0.95  696.47   0.36  0.724     2775      687   \n",
              "1180157    73.55    81.11  0.51  0.00  779.84   0.46  0.733     2249      469   \n",
              "\n",
              "         pesourb  capital_res  capital_not  tot_vacinados_acum  leitos  \\\n",
              "0          39490            0            0                 0.0    37.0   \n",
              "1          39490            0            0             46775.0    37.0   \n",
              "2          39490            0            0             47044.0    37.0   \n",
              "3          39490            0            0             46775.0    37.0   \n",
              "4          39490            0            0             46775.0    37.0   \n",
              "...          ...          ...          ...                 ...     ...   \n",
              "1180153     1520            0            0                53.0     0.0   \n",
              "1180154     2088            0            0               462.0     0.0   \n",
              "1180155     2088            0            0               218.0     0.0   \n",
              "1180156     2088            0            0               397.0     0.0   \n",
              "1180157     1780            0            0               518.0    87.0   \n",
              "\n",
              "         publico  casos   lotacao  distancia  perc_vac  sg_uf_not_cat  \\\n",
              "0            1.0      8  0.216216   0.000000  0.000000             23   \n",
              "1            1.0      6  0.162162   0.000000  1.100071             23   \n",
              "2            1.0      6  0.162162   0.000000  1.106397             23   \n",
              "3            1.0      6  0.162162   0.000000  1.100071             23   \n",
              "4            1.0      6  0.162162   0.000000  1.100071             23   \n",
              "...          ...    ...       ...        ...       ...            ...   \n",
              "1180153      0.0      1  0.000000   0.000000  0.026173             10   \n",
              "1180154      0.0      1  0.000000   0.000000  0.166486             10   \n",
              "1180155      0.0      1  0.000000   0.000000  0.078559             10   \n",
              "1180156      0.0      1  0.000000   0.000000  0.143063             10   \n",
              "1180157      1.0      1  0.011494  11.792194  0.230325             25   \n",
              "\n",
              "         sg_uf_cat  cs_sexo_cat  evolucao  \n",
              "0               23            2       1.0  \n",
              "1               23            2       0.0  \n",
              "2               23            2       0.0  \n",
              "3               23            0       1.0  \n",
              "4               23            0       1.0  \n",
              "...            ...          ...       ...  \n",
              "1180153         10            2       1.0  \n",
              "1180154         10            0       0.0  \n",
              "1180155         10            0       0.0  \n",
              "1180156         10            2       1.0  \n",
              "1180157         25            2       1.0  \n",
              "\n",
              "[1180158 rows x 34 columns]"
            ],
            "text/html": [
              "\n",
              "  <div id=\"df-2892bf6b-2fc7-45df-a9db-d6dbda83b379\">\n",
              "    <div class=\"colab-df-container\">\n",
              "      <div>\n",
              "<style scoped>\n",
              "    .dataframe tbody tr th:only-of-type {\n",
              "        vertical-align: middle;\n",
              "    }\n",
              "\n",
              "    .dataframe tbody tr th {\n",
              "        vertical-align: top;\n",
              "    }\n",
              "\n",
              "    .dataframe thead th {\n",
              "        text-align: right;\n",
              "    }\n",
              "</style>\n",
              "<table border=\"1\" class=\"dataframe\">\n",
              "  <thead>\n",
              "    <tr style=\"text-align: right;\">\n",
              "      <th></th>\n",
              "      <th>sem_pri</th>\n",
              "      <th>co_mun_not</th>\n",
              "      <th>co_mun_res</th>\n",
              "      <th>cs_raca</th>\n",
              "      <th>cs_escol_n</th>\n",
              "      <th>cs_zona</th>\n",
              "      <th>vacina_cov</th>\n",
              "      <th>calc_idade</th>\n",
              "      <th>qnt_comorbidades</th>\n",
              "      <th>qnt_sintomas</th>\n",
              "      <th>co_uni_not</th>\n",
              "      <th>ESPVIDA</th>\n",
              "      <th>SOBRE60</th>\n",
              "      <th>GINI</th>\n",
              "      <th>PIND</th>\n",
              "      <th>RDPC</th>\n",
              "      <th>THEIL</th>\n",
              "      <th>IDHM</th>\n",
              "      <th>pesotot</th>\n",
              "      <th>pesoRUR</th>\n",
              "      <th>pesourb</th>\n",
              "      <th>capital_res</th>\n",
              "      <th>capital_not</th>\n",
              "      <th>tot_vacinados_acum</th>\n",
              "      <th>leitos</th>\n",
              "      <th>publico</th>\n",
              "      <th>casos</th>\n",
              "      <th>lotacao</th>\n",
              "      <th>distancia</th>\n",
              "      <th>perc_vac</th>\n",
              "      <th>sg_uf_not_cat</th>\n",
              "      <th>sg_uf_cat</th>\n",
              "      <th>cs_sexo_cat</th>\n",
              "      <th>evolucao</th>\n",
              "    </tr>\n",
              "  </thead>\n",
              "  <tbody>\n",
              "    <tr>\n",
              "      <th>0</th>\n",
              "      <td>54</td>\n",
              "      <td>421620</td>\n",
              "      <td>421620</td>\n",
              "      <td>1.0</td>\n",
              "      <td>1.0</td>\n",
              "      <td>1.0</td>\n",
              "      <td>1.0</td>\n",
              "      <td>75</td>\n",
              "      <td>2</td>\n",
              "      <td>5</td>\n",
              "      <td>7105088</td>\n",
              "      <td>76.35</td>\n",
              "      <td>85.35</td>\n",
              "      <td>0.45</td>\n",
              "      <td>0.75</td>\n",
              "      <td>801.49</td>\n",
              "      <td>0.36</td>\n",
              "      <td>0.762</td>\n",
              "      <td>42520</td>\n",
              "      <td>3030</td>\n",
              "      <td>39490</td>\n",
              "      <td>0</td>\n",
              "      <td>0</td>\n",
              "      <td>0.0</td>\n",
              "      <td>37.0</td>\n",
              "      <td>1.0</td>\n",
              "      <td>8</td>\n",
              "      <td>0.216216</td>\n",
              "      <td>0.000000</td>\n",
              "      <td>0.000000</td>\n",
              "      <td>23</td>\n",
              "      <td>23</td>\n",
              "      <td>2</td>\n",
              "      <td>1.0</td>\n",
              "    </tr>\n",
              "    <tr>\n",
              "      <th>1</th>\n",
              "      <td>108</td>\n",
              "      <td>421620</td>\n",
              "      <td>421620</td>\n",
              "      <td>1.0</td>\n",
              "      <td>9.0</td>\n",
              "      <td>1.0</td>\n",
              "      <td>2.0</td>\n",
              "      <td>75</td>\n",
              "      <td>1</td>\n",
              "      <td>7</td>\n",
              "      <td>7105088</td>\n",
              "      <td>76.35</td>\n",
              "      <td>85.35</td>\n",
              "      <td>0.45</td>\n",
              "      <td>0.75</td>\n",
              "      <td>801.49</td>\n",
              "      <td>0.36</td>\n",
              "      <td>0.762</td>\n",
              "      <td>42520</td>\n",
              "      <td>3030</td>\n",
              "      <td>39490</td>\n",
              "      <td>0</td>\n",
              "      <td>0</td>\n",
              "      <td>46775.0</td>\n",
              "      <td>37.0</td>\n",
              "      <td>1.0</td>\n",
              "      <td>6</td>\n",
              "      <td>0.162162</td>\n",
              "      <td>0.000000</td>\n",
              "      <td>1.100071</td>\n",
              "      <td>23</td>\n",
              "      <td>23</td>\n",
              "      <td>2</td>\n",
              "      <td>0.0</td>\n",
              "    </tr>\n",
              "    <tr>\n",
              "      <th>2</th>\n",
              "      <td>109</td>\n",
              "      <td>421620</td>\n",
              "      <td>421620</td>\n",
              "      <td>1.0</td>\n",
              "      <td>9.0</td>\n",
              "      <td>1.0</td>\n",
              "      <td>1.0</td>\n",
              "      <td>54</td>\n",
              "      <td>1</td>\n",
              "      <td>3</td>\n",
              "      <td>7105088</td>\n",
              "      <td>76.35</td>\n",
              "      <td>85.35</td>\n",
              "      <td>0.45</td>\n",
              "      <td>0.75</td>\n",
              "      <td>801.49</td>\n",
              "      <td>0.36</td>\n",
              "      <td>0.762</td>\n",
              "      <td>42520</td>\n",
              "      <td>3030</td>\n",
              "      <td>39490</td>\n",
              "      <td>0</td>\n",
              "      <td>0</td>\n",
              "      <td>47044.0</td>\n",
              "      <td>37.0</td>\n",
              "      <td>1.0</td>\n",
              "      <td>6</td>\n",
              "      <td>0.162162</td>\n",
              "      <td>0.000000</td>\n",
              "      <td>1.106397</td>\n",
              "      <td>23</td>\n",
              "      <td>23</td>\n",
              "      <td>2</td>\n",
              "      <td>0.0</td>\n",
              "    </tr>\n",
              "    <tr>\n",
              "      <th>3</th>\n",
              "      <td>108</td>\n",
              "      <td>421620</td>\n",
              "      <td>421620</td>\n",
              "      <td>1.0</td>\n",
              "      <td>9.0</td>\n",
              "      <td>1.0</td>\n",
              "      <td>1.0</td>\n",
              "      <td>93</td>\n",
              "      <td>2</td>\n",
              "      <td>2</td>\n",
              "      <td>7105088</td>\n",
              "      <td>76.35</td>\n",
              "      <td>85.35</td>\n",
              "      <td>0.45</td>\n",
              "      <td>0.75</td>\n",
              "      <td>801.49</td>\n",
              "      <td>0.36</td>\n",
              "      <td>0.762</td>\n",
              "      <td>42520</td>\n",
              "      <td>3030</td>\n",
              "      <td>39490</td>\n",
              "      <td>0</td>\n",
              "      <td>0</td>\n",
              "      <td>46775.0</td>\n",
              "      <td>37.0</td>\n",
              "      <td>1.0</td>\n",
              "      <td>6</td>\n",
              "      <td>0.162162</td>\n",
              "      <td>0.000000</td>\n",
              "      <td>1.100071</td>\n",
              "      <td>23</td>\n",
              "      <td>23</td>\n",
              "      <td>0</td>\n",
              "      <td>1.0</td>\n",
              "    </tr>\n",
              "    <tr>\n",
              "      <th>4</th>\n",
              "      <td>108</td>\n",
              "      <td>421620</td>\n",
              "      <td>421620</td>\n",
              "      <td>1.0</td>\n",
              "      <td>9.0</td>\n",
              "      <td>9.0</td>\n",
              "      <td>2.0</td>\n",
              "      <td>88</td>\n",
              "      <td>1</td>\n",
              "      <td>5</td>\n",
              "      <td>7105088</td>\n",
              "      <td>76.35</td>\n",
              "      <td>85.35</td>\n",
              "      <td>0.45</td>\n",
              "      <td>0.75</td>\n",
              "      <td>801.49</td>\n",
              "      <td>0.36</td>\n",
              "      <td>0.762</td>\n",
              "      <td>42520</td>\n",
              "      <td>3030</td>\n",
              "      <td>39490</td>\n",
              "      <td>0</td>\n",
              "      <td>0</td>\n",
              "      <td>46775.0</td>\n",
              "      <td>37.0</td>\n",
              "      <td>1.0</td>\n",
              "      <td>6</td>\n",
              "      <td>0.162162</td>\n",
              "      <td>0.000000</td>\n",
              "      <td>1.100071</td>\n",
              "      <td>23</td>\n",
              "      <td>23</td>\n",
              "      <td>0</td>\n",
              "      <td>1.0</td>\n",
              "    </tr>\n",
              "    <tr>\n",
              "      <th>...</th>\n",
              "      <td>...</td>\n",
              "      <td>...</td>\n",
              "      <td>...</td>\n",
              "      <td>...</td>\n",
              "      <td>...</td>\n",
              "      <td>...</td>\n",
              "      <td>...</td>\n",
              "      <td>...</td>\n",
              "      <td>...</td>\n",
              "      <td>...</td>\n",
              "      <td>...</td>\n",
              "      <td>...</td>\n",
              "      <td>...</td>\n",
              "      <td>...</td>\n",
              "      <td>...</td>\n",
              "      <td>...</td>\n",
              "      <td>...</td>\n",
              "      <td>...</td>\n",
              "      <td>...</td>\n",
              "      <td>...</td>\n",
              "      <td>...</td>\n",
              "      <td>...</td>\n",
              "      <td>...</td>\n",
              "      <td>...</td>\n",
              "      <td>...</td>\n",
              "      <td>...</td>\n",
              "      <td>...</td>\n",
              "      <td>...</td>\n",
              "      <td>...</td>\n",
              "      <td>...</td>\n",
              "      <td>...</td>\n",
              "      <td>...</td>\n",
              "      <td>...</td>\n",
              "      <td>...</td>\n",
              "    </tr>\n",
              "    <tr>\n",
              "      <th>1180153</th>\n",
              "      <td>63</td>\n",
              "      <td>310070</td>\n",
              "      <td>310070</td>\n",
              "      <td>4.0</td>\n",
              "      <td>9.0</td>\n",
              "      <td>9.0</td>\n",
              "      <td>2.0</td>\n",
              "      <td>60</td>\n",
              "      <td>1</td>\n",
              "      <td>3</td>\n",
              "      <td>2164639</td>\n",
              "      <td>76.58</td>\n",
              "      <td>84.78</td>\n",
              "      <td>0.46</td>\n",
              "      <td>0.71</td>\n",
              "      <td>701.19</td>\n",
              "      <td>0.36</td>\n",
              "      <td>0.675</td>\n",
              "      <td>2025</td>\n",
              "      <td>505</td>\n",
              "      <td>1520</td>\n",
              "      <td>0</td>\n",
              "      <td>0</td>\n",
              "      <td>53.0</td>\n",
              "      <td>0.0</td>\n",
              "      <td>0.0</td>\n",
              "      <td>1</td>\n",
              "      <td>0.000000</td>\n",
              "      <td>0.000000</td>\n",
              "      <td>0.026173</td>\n",
              "      <td>10</td>\n",
              "      <td>10</td>\n",
              "      <td>2</td>\n",
              "      <td>1.0</td>\n",
              "    </tr>\n",
              "    <tr>\n",
              "      <th>1180154</th>\n",
              "      <td>68</td>\n",
              "      <td>310380</td>\n",
              "      <td>310380</td>\n",
              "      <td>1.0</td>\n",
              "      <td>9.0</td>\n",
              "      <td>1.0</td>\n",
              "      <td>2.0</td>\n",
              "      <td>28</td>\n",
              "      <td>1</td>\n",
              "      <td>5</td>\n",
              "      <td>2102099</td>\n",
              "      <td>77.27</td>\n",
              "      <td>85.75</td>\n",
              "      <td>0.45</td>\n",
              "      <td>0.95</td>\n",
              "      <td>696.47</td>\n",
              "      <td>0.36</td>\n",
              "      <td>0.724</td>\n",
              "      <td>2775</td>\n",
              "      <td>687</td>\n",
              "      <td>2088</td>\n",
              "      <td>0</td>\n",
              "      <td>0</td>\n",
              "      <td>462.0</td>\n",
              "      <td>0.0</td>\n",
              "      <td>0.0</td>\n",
              "      <td>1</td>\n",
              "      <td>0.000000</td>\n",
              "      <td>0.000000</td>\n",
              "      <td>0.166486</td>\n",
              "      <td>10</td>\n",
              "      <td>10</td>\n",
              "      <td>0</td>\n",
              "      <td>0.0</td>\n",
              "    </tr>\n",
              "    <tr>\n",
              "      <th>1180155</th>\n",
              "      <td>66</td>\n",
              "      <td>310380</td>\n",
              "      <td>310380</td>\n",
              "      <td>1.0</td>\n",
              "      <td>9.0</td>\n",
              "      <td>1.0</td>\n",
              "      <td>2.0</td>\n",
              "      <td>56</td>\n",
              "      <td>0</td>\n",
              "      <td>5</td>\n",
              "      <td>2102099</td>\n",
              "      <td>77.27</td>\n",
              "      <td>85.75</td>\n",
              "      <td>0.45</td>\n",
              "      <td>0.95</td>\n",
              "      <td>696.47</td>\n",
              "      <td>0.36</td>\n",
              "      <td>0.724</td>\n",
              "      <td>2775</td>\n",
              "      <td>687</td>\n",
              "      <td>2088</td>\n",
              "      <td>0</td>\n",
              "      <td>0</td>\n",
              "      <td>218.0</td>\n",
              "      <td>0.0</td>\n",
              "      <td>0.0</td>\n",
              "      <td>1</td>\n",
              "      <td>0.000000</td>\n",
              "      <td>0.000000</td>\n",
              "      <td>0.078559</td>\n",
              "      <td>10</td>\n",
              "      <td>10</td>\n",
              "      <td>0</td>\n",
              "      <td>0.0</td>\n",
              "    </tr>\n",
              "    <tr>\n",
              "      <th>1180156</th>\n",
              "      <td>67</td>\n",
              "      <td>310380</td>\n",
              "      <td>310380</td>\n",
              "      <td>4.0</td>\n",
              "      <td>9.0</td>\n",
              "      <td>9.0</td>\n",
              "      <td>2.0</td>\n",
              "      <td>73</td>\n",
              "      <td>0</td>\n",
              "      <td>3</td>\n",
              "      <td>2102099</td>\n",
              "      <td>77.27</td>\n",
              "      <td>85.75</td>\n",
              "      <td>0.45</td>\n",
              "      <td>0.95</td>\n",
              "      <td>696.47</td>\n",
              "      <td>0.36</td>\n",
              "      <td>0.724</td>\n",
              "      <td>2775</td>\n",
              "      <td>687</td>\n",
              "      <td>2088</td>\n",
              "      <td>0</td>\n",
              "      <td>0</td>\n",
              "      <td>397.0</td>\n",
              "      <td>0.0</td>\n",
              "      <td>0.0</td>\n",
              "      <td>1</td>\n",
              "      <td>0.000000</td>\n",
              "      <td>0.000000</td>\n",
              "      <td>0.143063</td>\n",
              "      <td>10</td>\n",
              "      <td>10</td>\n",
              "      <td>2</td>\n",
              "      <td>1.0</td>\n",
              "    </tr>\n",
              "    <tr>\n",
              "      <th>1180157</th>\n",
              "      <td>81</td>\n",
              "      <td>351450</td>\n",
              "      <td>352750</td>\n",
              "      <td>4.0</td>\n",
              "      <td>1.0</td>\n",
              "      <td>1.0</td>\n",
              "      <td>2.0</td>\n",
              "      <td>71</td>\n",
              "      <td>3</td>\n",
              "      <td>7</td>\n",
              "      <td>2790637</td>\n",
              "      <td>73.55</td>\n",
              "      <td>81.11</td>\n",
              "      <td>0.51</td>\n",
              "      <td>0.00</td>\n",
              "      <td>779.84</td>\n",
              "      <td>0.46</td>\n",
              "      <td>0.733</td>\n",
              "      <td>2249</td>\n",
              "      <td>469</td>\n",
              "      <td>1780</td>\n",
              "      <td>0</td>\n",
              "      <td>0</td>\n",
              "      <td>518.0</td>\n",
              "      <td>87.0</td>\n",
              "      <td>1.0</td>\n",
              "      <td>1</td>\n",
              "      <td>0.011494</td>\n",
              "      <td>11.792194</td>\n",
              "      <td>0.230325</td>\n",
              "      <td>25</td>\n",
              "      <td>25</td>\n",
              "      <td>2</td>\n",
              "      <td>1.0</td>\n",
              "    </tr>\n",
              "  </tbody>\n",
              "</table>\n",
              "<p>1180158 rows × 34 columns</p>\n",
              "</div>\n",
              "      <button class=\"colab-df-convert\" onclick=\"convertToInteractive('df-2892bf6b-2fc7-45df-a9db-d6dbda83b379')\"\n",
              "              title=\"Convert this dataframe to an interactive table.\"\n",
              "              style=\"display:none;\">\n",
              "        \n",
              "  <svg xmlns=\"http://www.w3.org/2000/svg\" height=\"24px\"viewBox=\"0 0 24 24\"\n",
              "       width=\"24px\">\n",
              "    <path d=\"M0 0h24v24H0V0z\" fill=\"none\"/>\n",
              "    <path d=\"M18.56 5.44l.94 2.06.94-2.06 2.06-.94-2.06-.94-.94-2.06-.94 2.06-2.06.94zm-11 1L8.5 8.5l.94-2.06 2.06-.94-2.06-.94L8.5 2.5l-.94 2.06-2.06.94zm10 10l.94 2.06.94-2.06 2.06-.94-2.06-.94-.94-2.06-.94 2.06-2.06.94z\"/><path d=\"M17.41 7.96l-1.37-1.37c-.4-.4-.92-.59-1.43-.59-.52 0-1.04.2-1.43.59L10.3 9.45l-7.72 7.72c-.78.78-.78 2.05 0 2.83L4 21.41c.39.39.9.59 1.41.59.51 0 1.02-.2 1.41-.59l7.78-7.78 2.81-2.81c.8-.78.8-2.07 0-2.86zM5.41 20L4 18.59l7.72-7.72 1.47 1.35L5.41 20z\"/>\n",
              "  </svg>\n",
              "      </button>\n",
              "      \n",
              "  <style>\n",
              "    .colab-df-container {\n",
              "      display:flex;\n",
              "      flex-wrap:wrap;\n",
              "      gap: 12px;\n",
              "    }\n",
              "\n",
              "    .colab-df-convert {\n",
              "      background-color: #E8F0FE;\n",
              "      border: none;\n",
              "      border-radius: 50%;\n",
              "      cursor: pointer;\n",
              "      display: none;\n",
              "      fill: #1967D2;\n",
              "      height: 32px;\n",
              "      padding: 0 0 0 0;\n",
              "      width: 32px;\n",
              "    }\n",
              "\n",
              "    .colab-df-convert:hover {\n",
              "      background-color: #E2EBFA;\n",
              "      box-shadow: 0px 1px 2px rgba(60, 64, 67, 0.3), 0px 1px 3px 1px rgba(60, 64, 67, 0.15);\n",
              "      fill: #174EA6;\n",
              "    }\n",
              "\n",
              "    [theme=dark] .colab-df-convert {\n",
              "      background-color: #3B4455;\n",
              "      fill: #D2E3FC;\n",
              "    }\n",
              "\n",
              "    [theme=dark] .colab-df-convert:hover {\n",
              "      background-color: #434B5C;\n",
              "      box-shadow: 0px 1px 3px 1px rgba(0, 0, 0, 0.15);\n",
              "      filter: drop-shadow(0px 1px 2px rgba(0, 0, 0, 0.3));\n",
              "      fill: #FFFFFF;\n",
              "    }\n",
              "  </style>\n",
              "\n",
              "      <script>\n",
              "        const buttonEl =\n",
              "          document.querySelector('#df-2892bf6b-2fc7-45df-a9db-d6dbda83b379 button.colab-df-convert');\n",
              "        buttonEl.style.display =\n",
              "          google.colab.kernel.accessAllowed ? 'block' : 'none';\n",
              "\n",
              "        async function convertToInteractive(key) {\n",
              "          const element = document.querySelector('#df-2892bf6b-2fc7-45df-a9db-d6dbda83b379');\n",
              "          const dataTable =\n",
              "            await google.colab.kernel.invokeFunction('convertToInteractive',\n",
              "                                                     [key], {});\n",
              "          if (!dataTable) return;\n",
              "\n",
              "          const docLinkHtml = 'Like what you see? Visit the ' +\n",
              "            '<a target=\"_blank\" href=https://colab.research.google.com/notebooks/data_table.ipynb>data table notebook</a>'\n",
              "            + ' to learn more about interactive tables.';\n",
              "          element.innerHTML = '';\n",
              "          dataTable['output_type'] = 'display_data';\n",
              "          await google.colab.output.renderOutput(dataTable, element);\n",
              "          const docLink = document.createElement('div');\n",
              "          docLink.innerHTML = docLinkHtml;\n",
              "          element.appendChild(docLink);\n",
              "        }\n",
              "      </script>\n",
              "    </div>\n",
              "  </div>\n",
              "  "
            ]
          },
          "metadata": {}
        }
      ]
    },
    {
      "cell_type": "code",
      "source": [
        "df.info()"
      ],
      "metadata": {
        "colab": {
          "base_uri": "https://localhost:8080/"
        },
        "id": "TcvFUVfDkVcm",
        "outputId": "6f55d024-fdca-4394-ec43-60a907867678"
      },
      "execution_count": null,
      "outputs": [
        {
          "output_type": "stream",
          "name": "stdout",
          "text": [
            "<class 'pandas.core.frame.DataFrame'>\n",
            "Int64Index: 1180158 entries, 0 to 1180157\n",
            "Data columns (total 34 columns):\n",
            " #   Column              Non-Null Count    Dtype  \n",
            "---  ------              --------------    -----  \n",
            " 0   sem_pri             1180158 non-null  int64  \n",
            " 1   co_mun_not          1180158 non-null  int64  \n",
            " 2   co_mun_res          1180158 non-null  int64  \n",
            " 3   cs_raca             1180158 non-null  float64\n",
            " 4   cs_escol_n          1180158 non-null  float64\n",
            " 5   cs_zona             1180158 non-null  float64\n",
            " 6   vacina_cov          1180158 non-null  float64\n",
            " 7   calc_idade          1180158 non-null  int64  \n",
            " 8   qnt_comorbidades    1180158 non-null  int64  \n",
            " 9   qnt_sintomas        1180158 non-null  int64  \n",
            " 10  co_uni_not          1180158 non-null  int64  \n",
            " 11  ESPVIDA             1180158 non-null  float64\n",
            " 12  SOBRE60             1180158 non-null  float64\n",
            " 13  GINI                1180158 non-null  float64\n",
            " 14  PIND                1180158 non-null  float64\n",
            " 15  RDPC                1180158 non-null  float64\n",
            " 16  THEIL               1180158 non-null  float64\n",
            " 17  IDHM                1180158 non-null  float64\n",
            " 18  pesotot             1180158 non-null  int64  \n",
            " 19  pesoRUR             1180158 non-null  int64  \n",
            " 20  pesourb             1180158 non-null  int64  \n",
            " 21  capital_res         1180158 non-null  int64  \n",
            " 22  capital_not         1180158 non-null  int64  \n",
            " 23  tot_vacinados_acum  1180158 non-null  float64\n",
            " 24  leitos              1180158 non-null  float64\n",
            " 25  publico             1180158 non-null  float64\n",
            " 26  casos               1180158 non-null  int64  \n",
            " 27  lotacao             1180158 non-null  float64\n",
            " 28  distancia           1180158 non-null  float64\n",
            " 29  perc_vac            1180158 non-null  float64\n",
            " 30  sg_uf_not_cat       1180158 non-null  int64  \n",
            " 31  sg_uf_cat           1180158 non-null  int64  \n",
            " 32  cs_sexo_cat         1180158 non-null  int64  \n",
            " 33  evolucao            1180158 non-null  float64\n",
            "dtypes: float64(18), int64(16)\n",
            "memory usage: 315.1 MB\n"
          ]
        }
      ]
    },
    {
      "cell_type": "code",
      "source": [
        "import seaborn as sns\n",
        "\n",
        "sns.countplot(x='evolucao', data=df)"
      ],
      "metadata": {
        "colab": {
          "base_uri": "https://localhost:8080/",
          "height": 466
        },
        "id": "JlL_UJQmXfsF",
        "outputId": "ffb9de37-5bad-498b-b8c3-e2518bd30b74"
      },
      "execution_count": null,
      "outputs": [
        {
          "output_type": "execute_result",
          "data": {
            "text/plain": [
              "<Axes: xlabel='evolucao', ylabel='count'>"
            ]
          },
          "metadata": {},
          "execution_count": 6
        },
        {
          "output_type": "display_data",
          "data": {
            "text/plain": [
              "<Figure size 640x480 with 1 Axes>"
            ],
            "image/png": "[encoded data removed]"
          },
          "metadata": {}
        }
      ]
    },
    {
      "cell_type": "code",
      "source": [
        "from sklearn.model_selection import train_test_split\n",
        "\n",
        "X = df.drop(columns=['evolucao'])\n",
        "y = df['evolucao']\n",
        "\n",
        "X_train, X_test, y_train, y_test = train_test_split(X.values, y)"
      ],
      "metadata": {
        "id": "g_8k9GP_YXnA"
      },
      "execution_count": null,
      "outputs": []
    },
    {
      "cell_type": "code",
      "source": [
        "from imblearn.under_sampling import RandomUnderSampler\n",
        "\n",
        "rus = RandomUnderSampler()\n",
        "X_train, y_train = rus.fit_resample(X_train, y_train)"
      ],
      "metadata": {
        "id": "Tr3jl-asaQae"
      },
      "execution_count": null,
      "outputs": []
    },
    {
      "cell_type": "code",
      "source": [
        "from sklearn.ensemble import RandomForestClassifier\n",
        "\n",
        "model = RandomForestClassifier()\n",
        "\n",
        "model.fit(X_train, y_train)"
      ],
      "metadata": {
        "id": "-KhowAbkbHbU",
        "colab": {
          "base_uri": "https://localhost:8080/",
          "height": 74
        },
        "outputId": "4cae53b1-8e2e-43a5-f46f-1f7c0d22b337"
      },
      "execution_count": null,
      "outputs": [
        {
          "output_type": "execute_result",
          "data": {
            "text/plain": [
              "RandomForestClassifier()"
            ],
            "text/html": [
              "<style>#sk-container-id-1 {color: black;background-color: white;}#sk-container-id-1 pre{padding: 0;}#sk-container-id-1 div.sk-toggleable {background-color: white;}#sk-container-id-1 label.sk-toggleable__label {cursor: pointer;display: block;width: 100%;margin-bottom: 0;padding: 0.3em;box-sizing: border-box;text-align: center;}#sk-container-id-1 label.sk-toggleable__label-arrow:before {content: \"▸\";float: left;margin-right: 0.25em;color: #696969;}#sk-container-id-1 label.sk-toggleable__label-arrow:hover:before {color: black;}#sk-container-id-1 div.sk-estimator:hover label.sk-toggleable__label-arrow:before {color: black;}#sk-container-id-1 div.sk-toggleable__content {max-height: 0;max-width: 0;overflow: hidden;text-align: left;background-color: #f0f8ff;}#sk-container-id-1 div.sk-toggleable__content pre {margin: 0.2em;color: black;border-radius: 0.25em;background-color: #f0f8ff;}#sk-container-id-1 input.sk-toggleable__control:checked~div.sk-toggleable__content {max-height: 200px;max-width: 100%;overflow: auto;}#sk-container-id-1 input.sk-toggleable__control:checked~label.sk-toggleable__label-arrow:before {content: \"▾\";}#sk-container-id-1 div.sk-estimator input.sk-toggleable__control:checked~label.sk-toggleable__label {background-color: #d4ebff;}#sk-container-id-1 div.sk-label input.sk-toggleable__control:checked~label.sk-toggleable__label {background-color: #d4ebff;}#sk-container-id-1 input.sk-hidden--visually {border: 0;clip: rect(1px 1px 1px 1px);clip: rect(1px, 1px, 1px, 1px);height: 1px;margin: -1px;overflow: hidden;padding: 0;position: absolute;width: 1px;}#sk-container-id-1 div.sk-estimator {font-family: monospace;background-color: #f0f8ff;border: 1px dotted black;border-radius: 0.25em;box-sizing: border-box;margin-bottom: 0.5em;}#sk-container-id-1 div.sk-estimator:hover {background-color: #d4ebff;}#sk-container-id-1 div.sk-parallel-item::after {content: \"\";width: 100%;border-bottom: 1px solid gray;flex-grow: 1;}#sk-container-id-1 div.sk-label:hover label.sk-toggleable__label {background-color: #d4ebff;}#sk-container-id-1 div.sk-serial::before {content: \"\";position: absolute;border-left: 1px solid gray;box-sizing: border-box;top: 0;bottom: 0;left: 50%;z-index: 0;}#sk-container-id-1 div.sk-serial {display: flex;flex-direction: column;align-items: center;background-color: white;padding-right: 0.2em;padding-left: 0.2em;position: relative;}#sk-container-id-1 div.sk-item {position: relative;z-index: 1;}#sk-container-id-1 div.sk-parallel {display: flex;align-items: stretch;justify-content: center;background-color: white;position: relative;}#sk-container-id-1 div.sk-item::before, #sk-container-id-1 div.sk-parallel-item::before {content: \"\";position: absolute;border-left: 1px solid gray;box-sizing: border-box;top: 0;bottom: 0;left: 50%;z-index: -1;}#sk-container-id-1 div.sk-parallel-item {display: flex;flex-direction: column;z-index: 1;position: relative;background-color: white;}#sk-container-id-1 div.sk-parallel-item:first-child::after {align-self: flex-end;width: 50%;}#sk-container-id-1 div.sk-parallel-item:last-child::after {align-self: flex-start;width: 50%;}#sk-container-id-1 div.sk-parallel-item:only-child::after {width: 0;}#sk-container-id-1 div.sk-dashed-wrapped {border: 1px dashed gray;margin: 0 0.4em 0.5em 0.4em;box-sizing: border-box;padding-bottom: 0.4em;background-color: white;}#sk-container-id-1 div.sk-label label {font-family: monospace;font-weight: bold;display: inline-block;line-height: 1.2em;}#sk-container-id-1 div.sk-label-container {text-align: center;}#sk-container-id-1 div.sk-container {/* jupyter's `normalize.less` sets `[hidden] { display: none; }` but bootstrap.min.css set `[hidden] { display: none !important; }` so we also need the `!important` here to be able to override the default hidden behavior on the sphinx rendered scikit-learn.org. See: https://github.com/scikit-learn/scikit-learn/issues/21755 */display: inline-block !important;position: relative;}#sk-container-id-1 div.sk-text-repr-fallback {display: none;}</style><div id=\"sk-container-id-1\" class=\"sk-top-container\"><div class=\"sk-text-repr-fallback\"><pre>RandomForestClassifier()</pre><b>In a Jupyter environment, please rerun this cell to show the HTML representation or trust the notebook. <br />On GitHub, the HTML representation is unable to render, please try loading this page with nbviewer.org.</b></div><div class=\"sk-container\" hidden><div class=\"sk-item\"><div class=\"sk-estimator sk-toggleable\"><input class=\"sk-toggleable__control sk-hidden--visually\" id=\"sk-estimator-id-1\" type=\"checkbox\" checked><label for=\"sk-estimator-id-1\" class=\"sk-toggleable__label sk-toggleable__label-arrow\">RandomForestClassifier</label><div class=\"sk-toggleable__content\"><pre>RandomForestClassifier()</pre></div></div></div></div></div>"
            ]
          },
          "metadata": {},
          "execution_count": 10
        }
      ]
    },
    {
      "cell_type": "code",
      "source": [
        "from sklearn.preprocessing import StandardScaler\n",
        "# get the features and label from the original dataframe\n",
        "X = df.iloc[:,:-1]\n",
        "y = df.iloc[:,-1]\n",
        "# performing standardization\n",
        "sc = StandardScaler()\n",
        "X_scaled = sc.fit_transform(X)"
      ],
      "metadata": {
        "id": "tQWePB9fYQBk"
      },
      "execution_count": null,
      "outputs": []
    },
    {
      "cell_type": "code",
      "source": [
        "from sklearn.decomposition import PCA\n",
        "components = None\n",
        "pca = PCA(n_components = components)\n",
        "# perform PCA on the scaled data\n",
        "pca.fit(X_scaled)"
      ],
      "metadata": {
        "colab": {
          "base_uri": "https://localhost:8080/",
          "height": 74
        },
        "id": "OM4vx2SEYa6c",
        "outputId": "973d2613-8624-4ef1-9718-918bc145c2aa"
      },
      "execution_count": null,
      "outputs": [
        {
          "output_type": "execute_result",
          "data": {
            "text/plain": [
              "PCA()"
            ],
            "text/html": [
              "<style>#sk-container-id-2 {color: black;background-color: white;}#sk-container-id-2 pre{padding: 0;}#sk-container-id-2 div.sk-toggleable {background-color: white;}#sk-container-id-2 label.sk-toggleable__label {cursor: pointer;display: block;width: 100%;margin-bottom: 0;padding: 0.3em;box-sizing: border-box;text-align: center;}#sk-container-id-2 label.sk-toggleable__label-arrow:before {content: \"▸\";float: left;margin-right: 0.25em;color: #696969;}#sk-container-id-2 label.sk-toggleable__label-arrow:hover:before {color: black;}#sk-container-id-2 div.sk-estimator:hover label.sk-toggleable__label-arrow:before {color: black;}#sk-container-id-2 div.sk-toggleable__content {max-height: 0;max-width: 0;overflow: hidden;text-align: left;background-color: #f0f8ff;}#sk-container-id-2 div.sk-toggleable__content pre {margin: 0.2em;color: black;border-radius: 0.25em;background-color: #f0f8ff;}#sk-container-id-2 input.sk-toggleable__control:checked~div.sk-toggleable__content {max-height: 200px;max-width: 100%;overflow: auto;}#sk-container-id-2 input.sk-toggleable__control:checked~label.sk-toggleable__label-arrow:before {content: \"▾\";}#sk-container-id-2 div.sk-estimator input.sk-toggleable__control:checked~label.sk-toggleable__label {background-color: #d4ebff;}#sk-container-id-2 div.sk-label input.sk-toggleable__control:checked~label.sk-toggleable__label {background-color: #d4ebff;}#sk-container-id-2 input.sk-hidden--visually {border: 0;clip: rect(1px 1px 1px 1px);clip: rect(1px, 1px, 1px, 1px);height: 1px;margin: -1px;overflow: hidden;padding: 0;position: absolute;width: 1px;}#sk-container-id-2 div.sk-estimator {font-family: monospace;background-color: #f0f8ff;border: 1px dotted black;border-radius: 0.25em;box-sizing: border-box;margin-bottom: 0.5em;}#sk-container-id-2 div.sk-estimator:hover {background-color: #d4ebff;}#sk-container-id-2 div.sk-parallel-item::after {content: \"\";width: 100%;border-bottom: 1px solid gray;flex-grow: 1;}#sk-container-id-2 div.sk-label:hover label.sk-toggleable__label {background-color: #d4ebff;}#sk-container-id-2 div.sk-serial::before {content: \"\";position: absolute;border-left: 1px solid gray;box-sizing: border-box;top: 0;bottom: 0;left: 50%;z-index: 0;}#sk-container-id-2 div.sk-serial {display: flex;flex-direction: column;align-items: center;background-color: white;padding-right: 0.2em;padding-left: 0.2em;position: relative;}#sk-container-id-2 div.sk-item {position: relative;z-index: 1;}#sk-container-id-2 div.sk-parallel {display: flex;align-items: stretch;justify-content: center;background-color: white;position: relative;}#sk-container-id-2 div.sk-item::before, #sk-container-id-2 div.sk-parallel-item::before {content: \"\";position: absolute;border-left: 1px solid gray;box-sizing: border-box;top: 0;bottom: 0;left: 50%;z-index: -1;}#sk-container-id-2 div.sk-parallel-item {display: flex;flex-direction: column;z-index: 1;position: relative;background-color: white;}#sk-container-id-2 div.sk-parallel-item:first-child::after {align-self: flex-end;width: 50%;}#sk-container-id-2 div.sk-parallel-item:last-child::after {align-self: flex-start;width: 50%;}#sk-container-id-2 div.sk-parallel-item:only-child::after {width: 0;}#sk-container-id-2 div.sk-dashed-wrapped {border: 1px dashed gray;margin: 0 0.4em 0.5em 0.4em;box-sizing: border-box;padding-bottom: 0.4em;background-color: white;}#sk-container-id-2 div.sk-label label {font-family: monospace;font-weight: bold;display: inline-block;line-height: 1.2em;}#sk-container-id-2 div.sk-label-container {text-align: center;}#sk-container-id-2 div.sk-container {/* jupyter's `normalize.less` sets `[hidden] { display: none; }` but bootstrap.min.css set `[hidden] { display: none !important; }` so we also need the `!important` here to be able to override the default hidden behavior on the sphinx rendered scikit-learn.org. See: https://github.com/scikit-learn/scikit-learn/issues/21755 */display: inline-block !important;position: relative;}#sk-container-id-2 div.sk-text-repr-fallback {display: none;}</style><div id=\"sk-container-id-2\" class=\"sk-top-container\"><div class=\"sk-text-repr-fallback\"><pre>PCA()</pre><b>In a Jupyter environment, please rerun this cell to show the HTML representation or trust the notebook. <br />On GitHub, the HTML representation is unable to render, please try loading this page with nbviewer.org.</b></div><div class=\"sk-container\" hidden><div class=\"sk-item\"><div class=\"sk-estimator sk-toggleable\"><input class=\"sk-toggleable__control sk-hidden--visually\" id=\"sk-estimator-id-2\" type=\"checkbox\" checked><label for=\"sk-estimator-id-2\" class=\"sk-toggleable__label sk-toggleable__label-arrow\">PCA</label><div class=\"sk-toggleable__content\"><pre>PCA()</pre></div></div></div></div></div>"
            ]
          },
          "metadata": {},
          "execution_count": 12
        }
      ]
    },
    {
      "cell_type": "code",
      "source": [
        "# print the explained variances\n",
        "print(\"Variances (Percentage):\")\n",
        "print(pca.explained_variance_ratio_ * 100)\n",
        "print()\n",
        "\n",
        "print(\"Cumulative Variances (Percentage):\")\n",
        "print(pca.explained_variance_ratio_.cumsum() * 100)\n",
        "print()"
      ],
      "metadata": {
        "colab": {
          "base_uri": "https://localhost:8080/"
        },
        "id": "XtmoJsc0Yf-k",
        "outputId": "63f06709-aacd-4fc2-e080-d04eb7562205"
      },
      "execution_count": null,
      "outputs": [
        {
          "output_type": "stream",
          "name": "stdout",
          "text": [
            "Variances (Percentage):\n",
            "[1.95898248e+01 1.28657607e+01 7.77939647e+00 5.69157916e+00\n",
            " 5.11350944e+00 4.79815300e+00 4.04769619e+00 3.86393333e+00\n",
            " 3.41601078e+00 3.06708615e+00 2.93406177e+00 2.89731618e+00\n",
            " 2.78487961e+00 2.63809866e+00 2.26719048e+00 2.18140991e+00\n",
            " 2.11353723e+00 2.03342475e+00 1.80779335e+00 1.63107684e+00\n",
            " 1.55166665e+00 1.35774579e+00 1.17714644e+00 6.17049518e-01\n",
            " 4.86759808e-01 4.64903040e-01 3.89540190e-01 2.07144066e-01\n",
            " 1.31940822e-01 4.19198223e-02 3.05166936e-02 2.19283442e-02\n",
            " 3.96625478e-30]\n",
            "\n",
            "Cumulative Variances (Percentage):\n",
            "[ 19.58982483  32.4555855   40.23498197  45.92656113  51.04007058\n",
            "  55.83822357  59.88591976  63.74985309  67.16586387  70.23295002\n",
            "  73.16701179  76.06432797  78.84920758  81.48730624  83.75449673\n",
            "  85.93590664  88.04944387  90.08286862  91.89066198  93.52173882\n",
            "  95.07340547  96.43115125  97.6082977   98.22534721  98.71210702\n",
            "  99.17701006  99.56655025  99.77369432  99.90563514  99.94755496\n",
            "  99.97807166 100.         100.        ]\n",
            "\n"
          ]
        }
      ]
    },
    {
      "cell_type": "code",
      "source": [
        "# plot a scree plot\n",
        "import matplotlib.pyplot as plt\n",
        "import numpy as np\n",
        "components = len(pca.explained_variance_ratio_) \\\n",
        "    if components is None else components\n",
        "plt.plot(range(1,components+1),\n",
        "         np.cumsum(pca.explained_variance_ratio_ * 100))\n",
        "plt.xlabel(\"Number of components\")\n",
        "plt.ylabel(\"Explained variance (%)\")"
      ],
      "metadata": {
        "colab": {
          "base_uri": "https://localhost:8080/",
          "height": 466
        },
        "id": "VeZMkIOqZBg0",
        "outputId": "1914612e-c601-4145-ce3e-fa9219d32394"
      },
      "execution_count": null,
      "outputs": [
        {
          "output_type": "execute_result",
          "data": {
            "text/plain": [
              "Text(0, 0.5, 'Explained variance (%)')"
            ]
          },
          "metadata": {},
          "execution_count": 16
        },
        {
          "output_type": "display_data",
          "data": {
            "text/plain": [
              "<Figure size 640x480 with 1 Axes>"
            ],
            "image/png": "[encoded data removed]"
          },
          "metadata": {}
        }
      ]
    },
    {
      "cell_type": "code",
      "source": [
        "from sklearn.decomposition import PCA\n",
        "pca = PCA(n_components = 0.85)\n",
        "pca.fit(X_scaled)\n",
        "print(\"Cumulative Variances (Percentage):\")\n",
        "print(np.cumsum(pca.explained_variance_ratio_ * 100))\n",
        "components = len(pca.explained_variance_ratio_)\n",
        "print(f'Number of components: {components}')\n",
        "# Make the scree plot\n",
        "plt.plot(range(1, components + 1), np.cumsum(pca.explained_variance_ratio_ * 100))\n",
        "plt.xlabel(\"Number of components\")\n",
        "plt.ylabel(\"Explained variance (%)\")"
      ],
      "metadata": {
        "colab": {
          "base_uri": "https://localhost:8080/",
          "height": 551
        },
        "id": "K3iq6B85ZWFM",
        "outputId": "672758dd-e841-4f1b-e7c1-4ba21869c112"
      },
      "execution_count": null,
      "outputs": [
        {
          "output_type": "stream",
          "name": "stdout",
          "text": [
            "Cumulative Variances (Percentage):\n",
            "[19.58982483 32.4555855  40.23498197 45.92656113 51.04007058 55.83822357\n",
            " 59.88591976 63.74985309 67.16586387 70.23295002 73.16701179 76.06432797\n",
            " 78.84920758 81.48730624 83.75449673 85.93590664]\n",
            "Number of components: 16\n"
          ]
        },
        {
          "output_type": "execute_result",
          "data": {
            "text/plain": [
              "Text(0, 0.5, 'Explained variance (%)')"
            ]
          },
          "metadata": {},
          "execution_count": 17
        },
        {
          "output_type": "display_data",
          "data": {
            "text/plain": [
              "<Figure size 640x480 with 1 Axes>"
            ],
            "image/png": "[encoded data removed]"
          },
          "metadata": {}
        }
      ]
    },
    {
      "cell_type": "code",
      "source": [
        "from sklearn.pipeline import Pipeline\n",
        "from sklearn.preprocessing import StandardScaler\n",
        "from sklearn.decomposition import PCA\n",
        "from sklearn.linear_model import LogisticRegression\n",
        "_sc = StandardScaler()\n",
        "_pca = PCA(n_components = components)\n",
        "_model = RandomForestClassifier()\n",
        "rf_model = Pipeline([\n",
        "    ('std_scaler', _sc),\n",
        "    ('pca', _pca),\n",
        "    ('regressor', model)\n",
        "])"
      ],
      "metadata": {
        "id": "EYMo1_wrZkSt"
      },
      "execution_count": null,
      "outputs": []
    },
    {
      "cell_type": "code",
      "source": [
        "# perform a split\n",
        "X_train, X_test, y_train, y_test = \\\n",
        "    train_test_split(X, y,\n",
        "                     test_size=0.3,\n",
        "                     shuffle=True)\n",
        "# train the model using the PCA components\n",
        "rf_model.fit(X_train,y_train)"
      ],
      "metadata": {
        "id": "APNtNxVzVh3N",
        "colab": {
          "base_uri": "https://localhost:8080/",
          "height": 159
        },
        "outputId": "f8a46c1d-3405-4dc2-ad67-5e35a2e27d4c"
      },
      "execution_count": null,
      "outputs": [
        {
          "output_type": "execute_result",
          "data": {
            "text/plain": [
              "Pipeline(steps=[('std_scaler', StandardScaler()), ('pca', PCA(n_components=16)),\n",
              "                ('regressor', RandomForestClassifier())])"
            ],
            "text/html": [
              "<style>#sk-container-id-4 {color: black;background-color: white;}#sk-container-id-4 pre{padding: 0;}#sk-container-id-4 div.sk-toggleable {background-color: white;}#sk-container-id-4 label.sk-toggleable__label {cursor: pointer;display: block;width: 100%;margin-bottom: 0;padding: 0.3em;box-sizing: border-box;text-align: center;}#sk-container-id-4 label.sk-toggleable__label-arrow:before {content: \"▸\";float: left;margin-right: 0.25em;color: #696969;}#sk-container-id-4 label.sk-toggleable__label-arrow:hover:before {color: black;}#sk-container-id-4 div.sk-estimator:hover label.sk-toggleable__label-arrow:before {color: black;}#sk-container-id-4 div.sk-toggleable__content {max-height: 0;max-width: 0;overflow: hidden;text-align: left;background-color: #f0f8ff;}#sk-container-id-4 div.sk-toggleable__content pre {margin: 0.2em;color: black;border-radius: 0.25em;background-color: #f0f8ff;}#sk-container-id-4 input.sk-toggleable__control:checked~div.sk-toggleable__content {max-height: 200px;max-width: 100%;overflow: auto;}#sk-container-id-4 input.sk-toggleable__control:checked~label.sk-toggleable__label-arrow:before {content: \"▾\";}#sk-container-id-4 div.sk-estimator input.sk-toggleable__control:checked~label.sk-toggleable__label {background-color: #d4ebff;}#sk-container-id-4 div.sk-label input.sk-toggleable__control:checked~label.sk-toggleable__label {background-color: #d4ebff;}#sk-container-id-4 input.sk-hidden--visually {border: 0;clip: rect(1px 1px 1px 1px);clip: rect(1px, 1px, 1px, 1px);height: 1px;margin: -1px;overflow: hidden;padding: 0;position: absolute;width: 1px;}#sk-container-id-4 div.sk-estimator {font-family: monospace;background-color: #f0f8ff;border: 1px dotted black;border-radius: 0.25em;box-sizing: border-box;margin-bottom: 0.5em;}#sk-container-id-4 div.sk-estimator:hover {background-color: #d4ebff;}#sk-container-id-4 div.sk-parallel-item::after {content: \"\";width: 100%;border-bottom: 1px solid gray;flex-grow: 1;}#sk-container-id-4 div.sk-label:hover label.sk-toggleable__label {background-color: #d4ebff;}#sk-container-id-4 div.sk-serial::before {content: \"\";position: absolute;border-left: 1px solid gray;box-sizing: border-box;top: 0;bottom: 0;left: 50%;z-index: 0;}#sk-container-id-4 div.sk-serial {display: flex;flex-direction: column;align-items: center;background-color: white;padding-right: 0.2em;padding-left: 0.2em;position: relative;}#sk-container-id-4 div.sk-item {position: relative;z-index: 1;}#sk-container-id-4 div.sk-parallel {display: flex;align-items: stretch;justify-content: center;background-color: white;position: relative;}#sk-container-id-4 div.sk-item::before, #sk-container-id-4 div.sk-parallel-item::before {content: \"\";position: absolute;border-left: 1px solid gray;box-sizing: border-box;top: 0;bottom: 0;left: 50%;z-index: -1;}#sk-container-id-4 div.sk-parallel-item {display: flex;flex-direction: column;z-index: 1;position: relative;background-color: white;}#sk-container-id-4 div.sk-parallel-item:first-child::after {align-self: flex-end;width: 50%;}#sk-container-id-4 div.sk-parallel-item:last-child::after {align-self: flex-start;width: 50%;}#sk-container-id-4 div.sk-parallel-item:only-child::after {width: 0;}#sk-container-id-4 div.sk-dashed-wrapped {border: 1px dashed gray;margin: 0 0.4em 0.5em 0.4em;box-sizing: border-box;padding-bottom: 0.4em;background-color: white;}#sk-container-id-4 div.sk-label label {font-family: monospace;font-weight: bold;display: inline-block;line-height: 1.2em;}#sk-container-id-4 div.sk-label-container {text-align: center;}#sk-container-id-4 div.sk-container {/* jupyter's `normalize.less` sets `[hidden] { display: none; }` but bootstrap.min.css set `[hidden] { display: none !important; }` so we also need the `!important` here to be able to override the default hidden behavior on the sphinx rendered scikit-learn.org. See: https://github.com/scikit-learn/scikit-learn/issues/21755 */display: inline-block !important;position: relative;}#sk-container-id-4 div.sk-text-repr-fallback {display: none;}</style><div id=\"sk-container-id-4\" class=\"sk-top-container\"><div class=\"sk-text-repr-fallback\"><pre>Pipeline(steps=[(&#x27;std_scaler&#x27;, StandardScaler()), (&#x27;pca&#x27;, PCA(n_components=16)),\n",
              "                (&#x27;regressor&#x27;, RandomForestClassifier())])</pre><b>In a Jupyter environment, please rerun this cell to show the HTML representation or trust the notebook. <br />On GitHub, the HTML representation is unable to render, please try loading this page with nbviewer.org.</b></div><div class=\"sk-container\" hidden><div class=\"sk-item sk-dashed-wrapped\"><div class=\"sk-label-container\"><div class=\"sk-label sk-toggleable\"><input class=\"sk-toggleable__control sk-hidden--visually\" id=\"sk-estimator-id-7\" type=\"checkbox\" ><label for=\"sk-estimator-id-7\" class=\"sk-toggleable__label sk-toggleable__label-arrow\">Pipeline</label><div class=\"sk-toggleable__content\"><pre>Pipeline(steps=[(&#x27;std_scaler&#x27;, StandardScaler()), (&#x27;pca&#x27;, PCA(n_components=16)),\n",
              "                (&#x27;regressor&#x27;, RandomForestClassifier())])</pre></div></div></div><div class=\"sk-serial\"><div class=\"sk-item\"><div class=\"sk-estimator sk-toggleable\"><input class=\"sk-toggleable__control sk-hidden--visually\" id=\"sk-estimator-id-8\" type=\"checkbox\" ><label for=\"sk-estimator-id-8\" class=\"sk-toggleable__label sk-toggleable__label-arrow\">StandardScaler</label><div class=\"sk-toggleable__content\"><pre>StandardScaler()</pre></div></div></div><div class=\"sk-item\"><div class=\"sk-estimator sk-toggleable\"><input class=\"sk-toggleable__control sk-hidden--visually\" id=\"sk-estimator-id-9\" type=\"checkbox\" ><label for=\"sk-estimator-id-9\" class=\"sk-toggleable__label sk-toggleable__label-arrow\">PCA</label><div class=\"sk-toggleable__content\"><pre>PCA(n_components=16)</pre></div></div></div><div class=\"sk-item\"><div class=\"sk-estimator sk-toggleable\"><input class=\"sk-toggleable__control sk-hidden--visually\" id=\"sk-estimator-id-10\" type=\"checkbox\" ><label for=\"sk-estimator-id-10\" class=\"sk-toggleable__label sk-toggleable__label-arrow\">RandomForestClassifier</label><div class=\"sk-toggleable__content\"><pre>RandomForestClassifier()</pre></div></div></div></div></div></div></div>"
            ]
          },
          "metadata": {},
          "execution_count": 25
        }
      ]
    },
    {
      "cell_type": "code",
      "source": [
        "import seaborn as sns\n",
        "\n",
        "importances = pd.Series(data=model.feature_importances_)\n",
        "sns.barplot(x=importances, y=importances.index, orient='h').set_title('Importância de cada feature')"
      ],
      "metadata": {
        "colab": {
          "base_uri": "https://localhost:8080/",
          "height": 470
        },
        "id": "4nvjefGa8LRU",
        "outputId": "b4a666bc-bdf1-4dbc-c4fd-d8c23a6a7409"
      },
      "execution_count": null,
      "outputs": [
        {
          "output_type": "execute_result",
          "data": {
            "text/plain": [
              "Text(0.5, 1.0, 'Importância de cada feature')"
            ]
          },
          "metadata": {},
          "execution_count": 73
        },
        {
          "output_type": "display_data",
          "data": {
            "text/plain": [
              "<Figure size 640x480 with 1 Axes>"
            ],
            "image/png": "[encoded data removed]"
          },
          "metadata": {}
        }
      ]
    },
    {
      "cell_type": "code",
      "source": [
        "from sklearn.metrics import accuracy_score, precision_score, recall_score, confusion_matrix, ConfusionMatrixDisplay\n",
        "\n",
        "prediction = model.predict(X_test)\n",
        "print(\"accuracy:\", accuracy_score(y_test, prediction))\n",
        "print(\"precision:\", precision_score(y_test, prediction))\n",
        "print(\"recall:\", recall_score(y_test, prediction))\n",
        "cm = confusion_matrix(y_test, prediction, labels=model.classes_)\n",
        "print(\"confusion matrix:\")\n",
        "ConfusionMatrixDisplay(confusion_matrix=cm, display_labels=model.classes_).plot()"
      ],
      "metadata": {
        "colab": {
          "base_uri": "https://localhost:8080/",
          "height": 408
        },
        "id": "VTuCXOZHbhxM",
        "outputId": "dabe7a6f-ef06-4873-a6ce-27f5e7f82e73"
      },
      "execution_count": null,
      "outputs": [
        {
          "output_type": "stream",
          "name": "stderr",
          "text": [
            "/usr/local/lib/python3.10/dist-packages/sklearn/base.py:432: UserWarning: X has feature names, but RandomForestClassifier was fitted without feature names\n",
            "  warnings.warn(\n"
          ]
        },
        {
          "output_type": "error",
          "ename": "ValueError",
          "evalue": "ignored",
          "traceback": [
            "\u001b[0;31m---------------------------------------------------------------------------\u001b[0m",
            "\u001b[0;31mValueError\u001b[0m                                Traceback (most recent call last)",
            "\u001b[0;32m<ipython-input-26-a19e0ca4648b>\u001b[0m in \u001b[0;36m<cell line: 3>\u001b[0;34m()\u001b[0m\n\u001b[1;32m      1\u001b[0m \u001b[0;32mfrom\u001b[0m \u001b[0msklearn\u001b[0m\u001b[0;34m.\u001b[0m\u001b[0mmetrics\u001b[0m \u001b[0;32mimport\u001b[0m \u001b[0maccuracy_score\u001b[0m\u001b[0;34m,\u001b[0m \u001b[0mprecision_score\u001b[0m\u001b[0;34m,\u001b[0m \u001b[0mrecall_score\u001b[0m\u001b[0;34m,\u001b[0m \u001b[0mconfusion_matrix\u001b[0m\u001b[0;34m,\u001b[0m \u001b[0mConfusionMatrixDisplay\u001b[0m\u001b[0;34m\u001b[0m\u001b[0;34m\u001b[0m\u001b[0m\n\u001b[1;32m      2\u001b[0m \u001b[0;34m\u001b[0m\u001b[0m\n\u001b[0;32m----> 3\u001b[0;31m \u001b[0mprediction\u001b[0m \u001b[0;34m=\u001b[0m \u001b[0mmodel\u001b[0m\u001b[0;34m.\u001b[0m\u001b[0mpredict\u001b[0m\u001b[0;34m(\u001b[0m\u001b[0mX_test\u001b[0m\u001b[0;34m)\u001b[0m\u001b[0;34m\u001b[0m\u001b[0;34m\u001b[0m\u001b[0m\n\u001b[0m\u001b[1;32m      4\u001b[0m \u001b[0mprint\u001b[0m\u001b[0;34m(\u001b[0m\u001b[0;34m\"accuracy:\"\u001b[0m\u001b[0;34m,\u001b[0m \u001b[0maccuracy_score\u001b[0m\u001b[0;34m(\u001b[0m\u001b[0my_test\u001b[0m\u001b[0;34m,\u001b[0m \u001b[0mprediction\u001b[0m\u001b[0;34m)\u001b[0m\u001b[0;34m)\u001b[0m\u001b[0;34m\u001b[0m\u001b[0;34m\u001b[0m\u001b[0m\n\u001b[1;32m      5\u001b[0m \u001b[0mprint\u001b[0m\u001b[0;34m(\u001b[0m\u001b[0;34m\"precision:\"\u001b[0m\u001b[0;34m,\u001b[0m \u001b[0mprecision_score\u001b[0m\u001b[0;34m(\u001b[0m\u001b[0my_test\u001b[0m\u001b[0;34m,\u001b[0m \u001b[0mprediction\u001b[0m\u001b[0;34m)\u001b[0m\u001b[0;34m)\u001b[0m\u001b[0;34m\u001b[0m\u001b[0;34m\u001b[0m\u001b[0m\n",
            "\u001b[0;32m/usr/local/lib/python3.10/dist-packages/sklearn/ensemble/_forest.py\u001b[0m in \u001b[0;36mpredict\u001b[0;34m(self, X)\u001b[0m\n\u001b[1;32m    818\u001b[0m             \u001b[0mThe\u001b[0m \u001b[0mpredicted\u001b[0m \u001b[0mclasses\u001b[0m\u001b[0;34m.\u001b[0m\u001b[0;34m\u001b[0m\u001b[0;34m\u001b[0m\u001b[0m\n\u001b[1;32m    819\u001b[0m         \"\"\"\n\u001b[0;32m--> 820\u001b[0;31m         \u001b[0mproba\u001b[0m \u001b[0;34m=\u001b[0m \u001b[0mself\u001b[0m\u001b[0;34m.\u001b[0m\u001b[0mpredict_proba\u001b[0m\u001b[0;34m(\u001b[0m\u001b[0mX\u001b[0m\u001b[0;34m)\u001b[0m\u001b[0;34m\u001b[0m\u001b[0;34m\u001b[0m\u001b[0m\n\u001b[0m\u001b[1;32m    821\u001b[0m \u001b[0;34m\u001b[0m\u001b[0m\n\u001b[1;32m    822\u001b[0m         \u001b[0;32mif\u001b[0m \u001b[0mself\u001b[0m\u001b[0;34m.\u001b[0m\u001b[0mn_outputs_\u001b[0m \u001b[0;34m==\u001b[0m \u001b[0;36m1\u001b[0m\u001b[0;34m:\u001b[0m\u001b[0;34m\u001b[0m\u001b[0;34m\u001b[0m\u001b[0m\n",
            "\u001b[0;32m/usr/local/lib/python3.10/dist-packages/sklearn/ensemble/_forest.py\u001b[0m in \u001b[0;36mpredict_proba\u001b[0;34m(self, X)\u001b[0m\n\u001b[1;32m    860\u001b[0m         \u001b[0mcheck_is_fitted\u001b[0m\u001b[0;34m(\u001b[0m\u001b[0mself\u001b[0m\u001b[0;34m)\u001b[0m\u001b[0;34m\u001b[0m\u001b[0;34m\u001b[0m\u001b[0m\n\u001b[1;32m    861\u001b[0m         \u001b[0;31m# Check data\u001b[0m\u001b[0;34m\u001b[0m\u001b[0;34m\u001b[0m\u001b[0m\n\u001b[0;32m--> 862\u001b[0;31m         \u001b[0mX\u001b[0m \u001b[0;34m=\u001b[0m \u001b[0mself\u001b[0m\u001b[0;34m.\u001b[0m\u001b[0m_validate_X_predict\u001b[0m\u001b[0;34m(\u001b[0m\u001b[0mX\u001b[0m\u001b[0;34m)\u001b[0m\u001b[0;34m\u001b[0m\u001b[0;34m\u001b[0m\u001b[0m\n\u001b[0m\u001b[1;32m    863\u001b[0m \u001b[0;34m\u001b[0m\u001b[0m\n\u001b[1;32m    864\u001b[0m         \u001b[0;31m# Assign chunk of trees to jobs\u001b[0m\u001b[0;34m\u001b[0m\u001b[0;34m\u001b[0m\u001b[0m\n",
            "\u001b[0;32m/usr/local/lib/python3.10/dist-packages/sklearn/ensemble/_forest.py\u001b[0m in \u001b[0;36m_validate_X_predict\u001b[0;34m(self, X)\u001b[0m\n\u001b[1;32m    600\u001b[0m         Validate X whenever one tries to predict, apply, predict_proba.\"\"\"\n\u001b[1;32m    601\u001b[0m         \u001b[0mcheck_is_fitted\u001b[0m\u001b[0;34m(\u001b[0m\u001b[0mself\u001b[0m\u001b[0;34m)\u001b[0m\u001b[0;34m\u001b[0m\u001b[0;34m\u001b[0m\u001b[0m\n\u001b[0;32m--> 602\u001b[0;31m         \u001b[0mX\u001b[0m \u001b[0;34m=\u001b[0m \u001b[0mself\u001b[0m\u001b[0;34m.\u001b[0m\u001b[0m_validate_data\u001b[0m\u001b[0;34m(\u001b[0m\u001b[0mX\u001b[0m\u001b[0;34m,\u001b[0m \u001b[0mdtype\u001b[0m\u001b[0;34m=\u001b[0m\u001b[0mDTYPE\u001b[0m\u001b[0;34m,\u001b[0m \u001b[0maccept_sparse\u001b[0m\u001b[0;34m=\u001b[0m\u001b[0;34m\"csr\"\u001b[0m\u001b[0;34m,\u001b[0m \u001b[0mreset\u001b[0m\u001b[0;34m=\u001b[0m\u001b[0;32mFalse\u001b[0m\u001b[0;34m)\u001b[0m\u001b[0;34m\u001b[0m\u001b[0;34m\u001b[0m\u001b[0m\n\u001b[0m\u001b[1;32m    603\u001b[0m         \u001b[0;32mif\u001b[0m \u001b[0missparse\u001b[0m\u001b[0;34m(\u001b[0m\u001b[0mX\u001b[0m\u001b[0;34m)\u001b[0m \u001b[0;32mand\u001b[0m \u001b[0;34m(\u001b[0m\u001b[0mX\u001b[0m\u001b[0;34m.\u001b[0m\u001b[0mindices\u001b[0m\u001b[0;34m.\u001b[0m\u001b[0mdtype\u001b[0m \u001b[0;34m!=\u001b[0m \u001b[0mnp\u001b[0m\u001b[0;34m.\u001b[0m\u001b[0mintc\u001b[0m \u001b[0;32mor\u001b[0m \u001b[0mX\u001b[0m\u001b[0;34m.\u001b[0m\u001b[0mindptr\u001b[0m\u001b[0;34m.\u001b[0m\u001b[0mdtype\u001b[0m \u001b[0;34m!=\u001b[0m \u001b[0mnp\u001b[0m\u001b[0;34m.\u001b[0m\u001b[0mintc\u001b[0m\u001b[0;34m)\u001b[0m\u001b[0;34m:\u001b[0m\u001b[0;34m\u001b[0m\u001b[0;34m\u001b[0m\u001b[0m\n\u001b[1;32m    604\u001b[0m             \u001b[0;32mraise\u001b[0m \u001b[0mValueError\u001b[0m\u001b[0;34m(\u001b[0m\u001b[0;34m\"No support for np.int64 index based sparse matrices\"\u001b[0m\u001b[0;34m)\u001b[0m\u001b[0;34m\u001b[0m\u001b[0;34m\u001b[0m\u001b[0m\n",
            "\u001b[0;32m/usr/local/lib/python3.10/dist-packages/sklearn/base.py\u001b[0m in \u001b[0;36m_validate_data\u001b[0;34m(self, X, y, reset, validate_separately, **check_params)\u001b[0m\n\u001b[1;32m    586\u001b[0m \u001b[0;34m\u001b[0m\u001b[0m\n\u001b[1;32m    587\u001b[0m         \u001b[0;32mif\u001b[0m \u001b[0;32mnot\u001b[0m \u001b[0mno_val_X\u001b[0m \u001b[0;32mand\u001b[0m \u001b[0mcheck_params\u001b[0m\u001b[0;34m.\u001b[0m\u001b[0mget\u001b[0m\u001b[0;34m(\u001b[0m\u001b[0;34m\"ensure_2d\"\u001b[0m\u001b[0;34m,\u001b[0m \u001b[0;32mTrue\u001b[0m\u001b[0;34m)\u001b[0m\u001b[0;34m:\u001b[0m\u001b[0;34m\u001b[0m\u001b[0;34m\u001b[0m\u001b[0m\n\u001b[0;32m--> 588\u001b[0;31m             \u001b[0mself\u001b[0m\u001b[0;34m.\u001b[0m\u001b[0m_check_n_features\u001b[0m\u001b[0;34m(\u001b[0m\u001b[0mX\u001b[0m\u001b[0;34m,\u001b[0m \u001b[0mreset\u001b[0m\u001b[0;34m=\u001b[0m\u001b[0mreset\u001b[0m\u001b[0;34m)\u001b[0m\u001b[0;34m\u001b[0m\u001b[0;34m\u001b[0m\u001b[0m\n\u001b[0m\u001b[1;32m    589\u001b[0m \u001b[0;34m\u001b[0m\u001b[0m\n\u001b[1;32m    590\u001b[0m         \u001b[0;32mreturn\u001b[0m \u001b[0mout\u001b[0m\u001b[0;34m\u001b[0m\u001b[0;34m\u001b[0m\u001b[0m\n",
            "\u001b[0;32m/usr/local/lib/python3.10/dist-packages/sklearn/base.py\u001b[0m in \u001b[0;36m_check_n_features\u001b[0;34m(self, X, reset)\u001b[0m\n\u001b[1;32m    387\u001b[0m \u001b[0;34m\u001b[0m\u001b[0m\n\u001b[1;32m    388\u001b[0m         \u001b[0;32mif\u001b[0m \u001b[0mn_features\u001b[0m \u001b[0;34m!=\u001b[0m \u001b[0mself\u001b[0m\u001b[0;34m.\u001b[0m\u001b[0mn_features_in_\u001b[0m\u001b[0;34m:\u001b[0m\u001b[0;34m\u001b[0m\u001b[0;34m\u001b[0m\u001b[0m\n\u001b[0;32m--> 389\u001b[0;31m             raise ValueError(\n\u001b[0m\u001b[1;32m    390\u001b[0m                 \u001b[0;34mf\"X has {n_features} features, but {self.__class__.__name__} \"\u001b[0m\u001b[0;34m\u001b[0m\u001b[0;34m\u001b[0m\u001b[0m\n\u001b[1;32m    391\u001b[0m                 \u001b[0;34mf\"is expecting {self.n_features_in_} features as input.\"\u001b[0m\u001b[0;34m\u001b[0m\u001b[0;34m\u001b[0m\u001b[0m\n",
            "\u001b[0;31mValueError\u001b[0m: X has 33 features, but RandomForestClassifier is expecting 16 features as input."
          ]
        }
      ]
    }
  ]
}