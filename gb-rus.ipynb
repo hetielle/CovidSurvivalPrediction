{
  "nbformat": 4,
  "nbformat_minor": 0,
  "metadata": {
    "colab": {
      "provenance": [],
      "authorship_tag": "ABX9TyOJLPbpqlhdzUqccTXa1ZlO",
      "include_colab_link": true
    },
    "kernelspec": {
      "name": "python3",
      "display_name": "Python 3"
    },
    "language_info": {
      "name": "python"
    }
  },
  "cells": [
    {
      "cell_type": "markdown",
      "metadata": {
        "id": "view-in-github",
        "colab_type": "text"
      },
      "source": [
        "<a href=\"https://colab.research.google.com/github/hetielle/CovidSurvivalPrediction/blob/main/gb-rus.ipynb\" target=\"_parent\"><img src=\"https://colab.research.google.com/assets/colab-badge.svg\" alt=\"Open In Colab\"/></a>"
      ]
    },
    {
      "cell_type": "code",
      "execution_count": null,
      "metadata": {
        "id": "vYzjdRqFJPyX"
      },
      "outputs": [],
      "source": [
        "from google.colab import drive\n",
        "drive.mount('/content/drive')"
      ]
    },
    {
      "cell_type": "code",
      "source": [
        "import pandas as pd\n",
        "\n",
        "df = pd.read_pickle('/content/drive/MyDrive/covid19/dados_finais.pkl')\n",
        "\n",
        "#só alterei a ordem das colunas, deixando a evolucao por ultimo pq é mais facil de entender\n",
        "df = df[['sem_pri', 'co_mun_not', 'co_mun_res', 'cs_raca', 'cs_escol_n',\n",
        "       'cs_zona', 'vacina_cov', 'calc_idade', 'qnt_comorbidades',\n",
        "       'qnt_sintomas', 'co_uni_not', 'ESPVIDA', 'SOBRE60', 'GINI', 'PIND',\n",
        "       'RDPC', 'THEIL', 'IDHM', 'pesotot', 'pesoRUR', 'pesourb', 'capital_res',\n",
        "       'capital_not', 'tot_vacinados_acum', 'leitos', 'publico', 'casos',\n",
        "       'lotacao', 'distancia', 'perc_vac', 'sg_uf_not_cat', 'sg_uf_cat',\n",
        "       'cs_sexo_cat', 'evolucao']]"
      ],
      "metadata": {
        "id": "JZidYztUJZiI"
      },
      "execution_count": null,
      "outputs": []
    },
    {
      "cell_type": "code",
      "source": [
        "df.columns"
      ],
      "metadata": {
        "id": "WVe3Sc55Jc69"
      },
      "execution_count": null,
      "outputs": []
    },
    {
      "cell_type": "code",
      "source": [
        "pd.set_option('display.max_columns', None)\n",
        "display(df)"
      ],
      "metadata": {
        "id": "xKqY8dAKJgpm"
      },
      "execution_count": null,
      "outputs": []
    },
    {
      "cell_type": "code",
      "source": [
        "df.info()"
      ],
      "metadata": {
        "id": "GBhMgI0DJk4N"
      },
      "execution_count": null,
      "outputs": []
    },
    {
      "cell_type": "code",
      "source": [
        "import seaborn as sns\n",
        "\n",
        "sns.countplot(x='evolucao', data=df)"
      ],
      "metadata": {
        "id": "LN2nOPs2Jn9M"
      },
      "execution_count": null,
      "outputs": []
    },
    {
      "cell_type": "code",
      "source": [
        "from sklearn.model_selection import train_test_split\n",
        "\n",
        "X = df.drop(columns=['evolucao'])\n",
        "y = df['evolucao']\n",
        "\n",
        "X_train, X_test, y_train, y_test = train_test_split(X.values, y)"
      ],
      "metadata": {
        "id": "tYRfB0ZCJrP-"
      },
      "execution_count": null,
      "outputs": []
    },
    {
      "cell_type": "code",
      "source": [
        "from imblearn.under_sampling import RandomUnderSampler\n",
        "\n",
        "rus = RandomUnderSampler()\n",
        "X_train, y_train = rus.fit_resample(X_train, y_train)"
      ],
      "metadata": {
        "id": "GiVL_1FJJy60"
      },
      "execution_count": null,
      "outputs": []
    },
    {
      "cell_type": "code",
      "source": [
        "from sklearn.ensemble import GradientBoostingClassifier\n",
        "\n",
        "model = GradientBoostingClassifier()\n",
        "\n",
        "model.fit(X_train, y_train)"
      ],
      "metadata": {
        "id": "bSalPpZRJ3PY"
      },
      "execution_count": null,
      "outputs": []
    },
    {
      "cell_type": "code",
      "source": [
        "import seaborn as sns\n",
        "\n",
        "importances = pd.Series(data=model.feature_importances_)\n",
        "sns.barplot(x=importances, y=importances.index, orient='h').set_title('Importância de cada feature')"
      ],
      "metadata": {
        "id": "ZAMfop_8J55v"
      },
      "execution_count": null,
      "outputs": []
    },
    {
      "cell_type": "code",
      "source": [
        "from sklearn.metrics import accuracy_score, precision_score, recall_score, confusion_matrix, ConfusionMatrixDisplay\n",
        "\n",
        "prediction = model.predict(X_test)\n",
        "print(\"accuracy:\", accuracy_score(y_test, prediction))\n",
        "print(\"precision:\", precision_score(y_test, prediction))\n",
        "print(\"recall:\", recall_score(y_test, prediction))\n",
        "cm = confusion_matrix(y_test, prediction, labels=model.classes_)\n",
        "print(\"confusion matrix:\")\n",
        "ConfusionMatrixDisplay(confusion_matrix=cm, display_labels=model.classes_).plot()"
      ],
      "metadata": {
        "id": "zr2Pod5QJ8nU"
      },
      "execution_count": null,
      "outputs": []
    }
  ]
}