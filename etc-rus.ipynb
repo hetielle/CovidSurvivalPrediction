{
  "nbformat": 4,
  "nbformat_minor": 0,
  "metadata": {
    "colab": {
      "provenance": [],
      "authorship_tag": "ABX9TyMn7jBNWchqI3INXeRmDEDm",
      "include_colab_link": true
    },
    "kernelspec": {
      "name": "python3",
      "display_name": "Python 3"
    },
    "language_info": {
      "name": "python"
    }
  },
  "cells": [
    {
      "cell_type": "markdown",
      "metadata": {
        "id": "view-in-github",
        "colab_type": "text"
      },
      "source": [
        "<a href=\"https://colab.research.google.com/github/hetielle/CovidSurvivalPrediction/blob/main/etc-rus.ipynb\" target=\"_parent\"><img src=\"https://colab.research.google.com/assets/colab-badge.svg\" alt=\"Open In Colab\"/></a>"
      ]
    },
    {
      "cell_type": "code",
      "execution_count": null,
      "metadata": {
        "id": "_Ka4mUsh95Wo"
      },
      "outputs": [],
      "source": [
        "from google.colab import drive\n",
        "drive.mount('/content/drive')"
      ]
    },
    {
      "cell_type": "code",
      "source": [
        "import pandas as pd\n",
        "from imblearn.over_sampling import SMOTE\n",
        "from imblearn.under_sampling import RandomUnderSampler\n",
        "from imblearn.over_sampling import RandomOverSampler\n",
        "\n",
        "colunas = ['CS_SEXO', 'NU_IDADE_N', 'CS_GESTANT', 'VACINA_COV', 'CLASSI_FIN', 'FATOR_RISC', 'OBESIDADE', 'IMUNODEPRE', 'ASMA', 'PNEUMOPATI', 'SIND_DOWN', 'RENAL', 'PUERPERA', 'CARDIOPATI', 'HEMATOLOGI', 'HEPATICA', 'OUT_MORBI', 'FEBRE', 'TOSSE', 'GARGANTA', 'DISPNEIA', 'DESC_RESP', 'SATURACAO', 'VOMITO', 'DIARREIA', 'DOR_ABD', 'FADIGA', 'PERD_OLFT', 'PERD_PALA', 'EVOLUCAO']\n",
        "\n",
        "df = pd.read_csv('/content/drive/MyDrive/covid19/dataset.csv', sep=\";\", usecols=colunas) #usecols: carrega apenas uma lista de coluna\n",
        "\n",
        "pd.set_option('display.max_columns', None)\n",
        "\n",
        "sintomas_e_riscos = ['OBESIDADE', 'IMUNODEPRE', 'ASMA', 'PNEUMOPATI', 'SIND_DOWN', 'RENAL', 'PUERPERA', 'CARDIOPATI', 'HEMATOLOGI', 'HEPATICA', 'OUT_MORBI', 'FEBRE', 'TOSSE', 'GARGANTA', 'DISPNEIA', 'DESC_RESP', 'SATURACAO', 'VOMITO', 'DIARREIA', 'DOR_ABD', 'FADIGA', 'PERD_OLFT', 'PERD_PALA']\n",
        "\n",
        "df[sintomas_e_riscos] = df[sintomas_e_riscos].fillna(2)\n",
        "\n",
        "df['CS_GESTANT'] = df['CS_GESTANT'].fillna(5)\n",
        "\n",
        "df['CS_GESTANT'] = df['CS_GESTANT'].map({\n",
        "    6.0 : 5.0,\n",
        "    9.0 : 5.0\n",
        "})\n",
        "\n",
        "remover_ignorados = sintomas_e_riscos + ['FATOR_RISC', 'VACINA_COV', 'EVOLUCAO']\n",
        "for n in remover_ignorados:\n",
        "  df = df[df[n] != 9.0]\n",
        "\n",
        "df = df.dropna(how='any') #dropar linhas com valores NaN\n",
        "df = df[df.CLASSI_FIN == 5] #filtrar por passientes com covid-19\n",
        "\n",
        "df = df[df.EVOLUCAO != 3.0]\n",
        "\n",
        "convert_bin = remover_ignorados\n",
        "for n in convert_bin:\n",
        "  df[n] = df[n].map({\n",
        "      1.0 : int(1),\n",
        "      2.0 : int(0)\n",
        "  })\n",
        "\n",
        "df = df[['CS_SEXO', 'NU_IDADE_N', 'CS_GESTANT', 'VACINA_COV', 'FATOR_RISC', 'OBESIDADE', 'IMUNODEPRE', 'ASMA', 'PNEUMOPATI', 'SIND_DOWN', 'RENAL', 'PUERPERA', 'CARDIOPATI', 'HEMATOLOGI', 'HEPATICA', 'OUT_MORBI', 'FEBRE', 'TOSSE', 'GARGANTA', 'DISPNEIA', 'DESC_RESP', 'SATURACAO', 'VOMITO', 'DIARREIA', 'DOR_ABD', 'FADIGA', 'PERD_OLFT', 'PERD_PALA', 'EVOLUCAO']] #altera a ordem das colunas e exclui CLASSI_FIN\n",
        "\n",
        "#df['DT_INTERNA'] = pd.to_datetime(df['DT_INTERNA'], dayfirst=True)\n",
        "#df['DT_EVOLUCA'] = pd.to_datetime(df['DT_EVOLUCA'], dayfirst=True)\n",
        "\n",
        "df['CS_SEXO'] = df['CS_SEXO'].map({\n",
        "    'M' : int(1),\n",
        "    'F' : int(2)\n",
        "})\n",
        "df = df.dropna(how='any')\n",
        "\n",
        "df.info()\n",
        "df.shape\n",
        "\n",
        "display(df)\n",
        "\n",
        "X = df.drop(columns=['EVOLUCAO'])\n",
        "y = df['EVOLUCAO']"
      ],
      "metadata": {
        "id": "RsAKG7Y19_si"
      },
      "execution_count": null,
      "outputs": []
    },
    {
      "cell_type": "code",
      "source": [
        "import seaborn as sns\n",
        "\n",
        "sns.countplot(x='EVOLUCAO', data=df)"
      ],
      "metadata": {
        "id": "KOKr1XXS-NP3"
      },
      "execution_count": null,
      "outputs": []
    },
    {
      "cell_type": "code",
      "source": [
        "from sklearn.model_selection import train_test_split\n",
        "from sklearn.ensemble import ExtraTreesClassifier\n",
        "#from sklearn.multioutput import MultiOutputClassifier\n",
        "from sklearn.metrics import accuracy_score, precision_score, recall_score, confusion_matrix, roc_auc_score, roc_curve, precision_recall_curve, f1_score, auc, ConfusionMatrixDisplay\n",
        "from imblearn.under_sampling import RandomUnderSampler\n",
        "from sklearn.model_selection import GridSearchCV\n",
        "import matplotlib.pyplot as plt\n",
        "from sklearn.svm import SVC\n",
        "\n",
        "#rus = RandomUnderSampler()\n",
        "#X, y = rus.fit_resample(X, y)\n",
        "\n",
        "X_train, X_test, y_train, y_test = train_test_split(X.values, y)\n",
        "\n",
        "ros = RandomUnderSampler()\n",
        "X_train, y_train = ros.fit_resample(X_train, y_train)\n",
        "\n",
        "#rus = RandomUnderSampler()\n",
        "#X_train, y_train = rus.fit_resample(X, y)\n",
        "\n",
        "model = ExtraTreesClassifier()#class_weight={0:1, 1:1}, max_features=13\n",
        "\n",
        "#parametros = {\n",
        "    #'max_depth' : [1, 5, 10],\n",
        "    #'min_child_weight' : [1, 5, 10],\n",
        "    #'eta' : [0.1, 0.5, 1.0]\n",
        "    #'n_estimators': [10, 500, 1000, 2000, 3000]\n",
        "  #'max_features': ['sqrt', 'log2', 2, 5, 8, 13, 21, 34, None]\n",
        "#}\n",
        "\n",
        "#grid = GridSearchCV(\n",
        "#    estimator=model,\n",
        "#    param_grid=parametros,\n",
        "#    scoring='accuracy',\n",
        "#    cv=5\n",
        "#)\n",
        "\n",
        "#grid.fit(X_test, y_test)\n",
        "#print(grid.best_score_)\n",
        "#print(grid.best_params_)\n",
        "\n",
        "model.fit(X_train, y_train)\n",
        "prediction = model.predict_proba([[1, 70, 5, 0, 1, 1, 0, 1, 0, 0, 0, 0, 0, 0, 0, 1, 1, 1, 1, 1, 1, 1, 1, 1, 1, 1, 1, 1]])\n",
        "#print(prediction)\n",
        "chance = prediction[0][1] * 100\n",
        "print(\"O paciente tem\", chance, \"porcento de chance de sobreviver\")\n",
        "model.predict([[1, 70, 5, 0, 1, 1, 0, 1, 0, 0, 0, 0, 0, 0, 0, 1, 1, 1, 1, 1, 1, 1, 1, 1, 1, 1, 1, 1]])\n",
        "\n",
        "model.fit(X_train, y_train)\n",
        "prediction = model.predict(X_test)\n",
        "print(\"accuracy:\", accuracy_score(y_test, prediction))\n",
        "print(\"precision:\", precision_score(y_test, prediction))\n",
        "print(\"recall:\", recall_score(y_test, prediction))\n",
        "cm = confusion_matrix(y_test, prediction, labels=model.classes_)\n",
        "print(\"confusion matrix:\")\n",
        "ConfusionMatrixDisplay(confusion_matrix=cm, display_labels=model.classes_).plot()"
      ],
      "metadata": {
        "id": "fTHZ1xDH-acq"
      },
      "execution_count": null,
      "outputs": []
    }
  ]
}